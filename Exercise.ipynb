{
 "cells": [
  {
   "cell_type": "code",
   "execution_count": 19,
   "id": "4de498e4",
   "metadata": {},
   "outputs": [],
   "source": [
    " # Rebuilding existing file and adding new items. Next creating new file\n",
    "import sys\n",
    "import math\n",
    "import json\n",
    "import numpy as np"
   ]
  },
  {
   "cell_type": "code",
   "execution_count": 39,
   "id": "e4468fef",
   "metadata": {},
   "outputs": [],
   "source": [
    "def total_cost(amount, duration,rate):\n",
    "    \"Calculates total cost for loan.\"\n",
    "    year_rate = int(amount) * float(rate)\n",
    "    year_duration = int(duration) / 12\n",
    "    cost = float(year_rate * year_duration) + int(amount)\n",
    "    return round(cost,2)"
   ]
  },
  {
   "cell_type": "code",
   "execution_count": 40,
   "id": "aa48b69b",
   "metadata": {},
   "outputs": [
    {
     "name": "stdout",
     "output_type": "stream",
     "text": [
      "[{'amount': '45230', 'duration': '48', 'rate': '0.07'}, {'amount': '883000', 'duration': '16', 'rate': '0.14'}, {'amount': '100000', 'duration': '12', 'rate': '0.1'}, {'amount': '728400', 'duration': '120', 'rate': '0.12'}, {'amount': '3637400', 'duration': '240', 'rate': '0.06'}, {'amount': '82900', 'duration': '90', 'rate': '0.07'}, {'amount': '316000', 'duration': '16', 'rate': '0.13'}, {'amount': '15230', 'duration': '48', 'rate': '0.08'}, {'amount': '991360', 'duration': '99', 'rate': '0.08'}, {'amount': '323000', 'duration': '27', 'rate': '0.09'}, {'amount': '528400', 'duration': '120', 'rate': '0.11'}, {'amount': '8633400', 'duration': '240', 'rate': '0.06'}, {'amount': '12900', 'duration': '90', 'rate': '0.08'}]\n"
     ]
    }
   ],
   "source": [
    "with open(\"loan.json\") as f:\n",
    "    data=json.load(f)\n",
    "print(data)"
   ]
  },
  {
   "cell_type": "code",
   "execution_count": 41,
   "id": "74477d48",
   "metadata": {},
   "outputs": [],
   "source": [
    "for item in data:\n",
    "    item['total_cost'] = total_cost(item[\"amount\"],\n",
    "                                   item[\"duration\"],\n",
    "                                   item[\"rate\"])"
   ]
  },
  {
   "cell_type": "code",
   "execution_count": 43,
   "id": "4bc523c8",
   "metadata": {},
   "outputs": [
    {
     "name": "stdout",
     "output_type": "stream",
     "text": [
      "[{'amount': '45230', 'duration': '48', 'rate': '0.07', 'total_cost': 57894.4}, {'amount': '883000', 'duration': '16', 'rate': '0.14', 'total_cost': 1047826.67}, {'amount': '100000', 'duration': '12', 'rate': '0.1', 'total_cost': 110000.0}, {'amount': '728400', 'duration': '120', 'rate': '0.12', 'total_cost': 1602480.0}, {'amount': '3637400', 'duration': '240', 'rate': '0.06', 'total_cost': 8002280.0}, {'amount': '82900', 'duration': '90', 'rate': '0.07', 'total_cost': 126422.5}, {'amount': '316000', 'duration': '16', 'rate': '0.13', 'total_cost': 370773.33}, {'amount': '15230', 'duration': '48', 'rate': '0.08', 'total_cost': 20103.6}, {'amount': '991360', 'duration': '99', 'rate': '0.08', 'total_cost': 1645657.6}, {'amount': '323000', 'duration': '27', 'rate': '0.09', 'total_cost': 388407.5}, {'amount': '528400', 'duration': '120', 'rate': '0.11', 'total_cost': 1109640.0}, {'amount': '8633400', 'duration': '240', 'rate': '0.06', 'total_cost': 18993480.0}, {'amount': '12900', 'duration': '90', 'rate': '0.08', 'total_cost': 20640.0}]\n"
     ]
    }
   ],
   "source": [
    "print(data)"
   ]
  },
  {
   "cell_type": "code",
   "execution_count": 44,
   "id": "a871457b",
   "metadata": {},
   "outputs": [],
   "source": [
    "with open (\"loans_with_costs.json\",\"w\") as f:\n",
    "    json.dump(data, f, indent=2)"
   ]
  }
 ],
 "metadata": {
  "kernelspec": {
   "display_name": "Python 3 (ipykernel)",
   "language": "python",
   "name": "python3"
  },
  "language_info": {
   "codemirror_mode": {
    "name": "ipython",
    "version": 3
   },
   "file_extension": ".py",
   "mimetype": "text/x-python",
   "name": "python",
   "nbconvert_exporter": "python",
   "pygments_lexer": "ipython3",
   "version": "3.9.12"
  }
 },
 "nbformat": 4,
 "nbformat_minor": 5
}
